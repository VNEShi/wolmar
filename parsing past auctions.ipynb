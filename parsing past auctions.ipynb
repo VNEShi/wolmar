{
 "cells": [
  {
   "cell_type": "code",
   "execution_count": 1,
   "metadata": {},
   "outputs": [
    {
     "name": "stderr",
     "output_type": "stream",
     "text": [
      "D:\\anaconda\\lib\\site-packages\\pandas\\core\\computation\\expressions.py:20: UserWarning: Pandas requires version '2.7.3' or newer of 'numexpr' (version '2.7.1' currently installed).\n",
      "  from pandas.core.computation.check import NUMEXPR_INSTALLED\n"
     ]
    }
   ],
   "source": [
    "import re\n",
    "import requests\n",
    "from bs4 import BeautifulSoup\n",
    "import pandas as pd"
   ]
  },
  {
   "cell_type": "code",
   "execution_count": 2,
   "metadata": {},
   "outputs": [
    {
     "name": "stdout",
     "output_type": "stream",
     "text": [
      "29.12.2021\n"
     ]
    }
   ],
   "source": [
    "auction = []\n",
    "close_auction = [] \n",
    "name_lot = []\n",
    "year_lot = []\n",
    "material_lot = []\n",
    "quality_lot = []\n",
    "last_bet = []\n",
    "\n",
    "\n",
    "for number_auction in range(1700,1702):\n",
    "    req = requests.get(\"https://www.wolmar.ru/auction/\"+str(number_auction))\n",
    "    soup = BeautifulSoup(req.text, \"html.parser\")\n",
    "\n",
    "    if re.search(r'(VIP)', soup.find('h1').text) is not None or re.search(r'(Standart)', soup.find('h1').text) is not None:\n",
    "        date_close = soup.find('h1').find('span').text[8:18]\n",
    "        print(date_close)\n",
    "        \n",
    "        for i in soup.find('ul').findAll('li')[::-1]:\n",
    "            last_page = i.text\n",
    "            break\n",
    "\n",
    "        for page in range(1,int(last_page)+1):\n",
    "            page_req = requests.get(\"https://www.wolmar.ru/auction/\"+str(number_auction)+\"?page=\"+str(page))\n",
    "            page_soup = BeautifulSoup(page_req.text, \"html.parser\")\n",
    "            \n",
    "            for i in page_soup.findAll('table')[4].findAll('tr')[3:]:\n",
    "                if i.findAll('td')[1].find('a') is not None:\n",
    "                    auction.append(\"https://www.wolmar.ru/auction/\"+str(number_auction))\n",
    "                    close_auction.append(date_close)  \n",
    "                    name_lot.append(i.findAll('td')[1].find('a').text)\n",
    "                    year_lot.append(i.findAll('td')[2].text)\n",
    "                    material_lot.append(i.findAll('td')[4].text)\n",
    "                    quality_lot.append(i.findAll('td')[5].find('nobr').text)\n",
    "                    last_bet.append(i.findAll('td')[8].text)"
   ]
  },
  {
   "cell_type": "code",
   "execution_count": 3,
   "metadata": {},
   "outputs": [],
   "source": [
    "df = pd.DataFrame({'auction': auction,\n",
    "                   'date_close_auction':close_auction,\n",
    "                   'name':name_lot,\n",
    "                   'year': year_lot,\n",
    "                   'material':material_lot,\n",
    "                   'quality': quality_lot,\n",
    "                   'last_bet':last_bet})\n",
    "df.to_csv('history_auction.csv',\n",
    "          index=False)"
   ]
  }
 ],
 "metadata": {
  "kernelspec": {
   "display_name": "Python 3",
   "language": "python",
   "name": "python3"
  },
  "language_info": {
   "codemirror_mode": {
    "name": "ipython",
    "version": 3
   },
   "file_extension": ".py",
   "mimetype": "text/x-python",
   "name": "python",
   "nbconvert_exporter": "python",
   "pygments_lexer": "ipython3",
   "version": "3.8.3"
  }
 },
 "nbformat": 4,
 "nbformat_minor": 4
}
